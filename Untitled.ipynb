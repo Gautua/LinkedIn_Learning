{
 "cells": [
  {
   "cell_type": "code",
   "execution_count": 2,
   "id": "e2fb2734",
   "metadata": {},
   "outputs": [
    {
     "name": "stdout",
     "output_type": "stream",
     "text": [
      "Collecting termcolor\n",
      "  Using cached termcolor-1.1.0-py3-none-any.whl\n",
      "Installing collected packages: termcolor\n",
      "Successfully installed termcolor-1.1.0\n",
      "Note: you may need to restart the kernel to use updated packages.\n"
     ]
    }
   ],
   "source": [
    "pip install termcolor"
   ]
  },
  {
   "cell_type": "code",
   "execution_count": 4,
   "id": "e18ce62d",
   "metadata": {},
   "outputs": [],
   "source": [
    "from termcolor import colored,cprint"
   ]
  },
  {
   "cell_type": "code",
   "execution_count": 5,
   "id": "a1b28e0e",
   "metadata": {},
   "outputs": [
    {
     "name": "stdout",
     "output_type": "stream",
     "text": [
      "\u001b[5m\u001b[7m\u001b[31mHello, World!\u001b[0m\n",
      "\u001b[41m\u001b[32mHello, World!\u001b[0m\n"
     ]
    }
   ],
   "source": [
    "text = colored('Hello, World!', 'red', attrs=['reverse', 'blink'])\n",
    "print(text)\n",
    "cprint('Hello, World!', 'green', 'on_red')\n"
   ]
  },
  {
   "cell_type": "code",
   "execution_count": 11,
   "id": "71eb4770",
   "metadata": {},
   "outputs": [],
   "source": [
    "from math import *"
   ]
  },
  {
   "cell_type": "code",
   "execution_count": 25,
   "id": "ba711c1d",
   "metadata": {},
   "outputs": [
    {
     "data": {
      "text/plain": [
       "1.0"
      ]
     },
     "execution_count": 25,
     "metadata": {},
     "output_type": "execute_result"
    }
   ],
   "source": [
    "sin((90/180)*pi)"
   ]
  },
  {
   "cell_type": "code",
   "execution_count": 28,
   "id": "a3ff6533",
   "metadata": {},
   "outputs": [
    {
     "data": {
      "text/plain": [
       "-1"
      ]
     },
     "execution_count": 28,
     "metadata": {},
     "output_type": "execute_result"
    }
   ],
   "source": [
    "round(cos((140/180)*pi))"
   ]
  },
  {
   "cell_type": "code",
   "execution_count": 20,
   "id": "3e63a093",
   "metadata": {},
   "outputs": [
    {
     "data": {
      "text/plain": [
       "0.6427876096865395"
      ]
     },
     "execution_count": 20,
     "metadata": {},
     "output_type": "execute_result"
    }
   ],
   "source": [
    "sin((140/180)*pi)"
   ]
  },
  {
   "cell_type": "code",
   "execution_count": 26,
   "id": "dcef8932",
   "metadata": {},
   "outputs": [
    {
     "data": {
      "text/plain": [
       "-1.0"
      ]
     },
     "execution_count": 26,
     "metadata": {},
     "output_type": "execute_result"
    }
   ],
   "source": [
    "cos((180/180)*pi)"
   ]
  },
  {
   "cell_type": "code",
   "execution_count": 29,
   "id": "ed548539",
   "metadata": {},
   "outputs": [
    {
     "data": {
      "text/plain": [
       "1"
      ]
     },
     "execution_count": 29,
     "metadata": {},
     "output_type": "execute_result"
    }
   ],
   "source": [
    "round(sin((140/180)*pi))"
   ]
  },
  {
   "cell_type": "code",
   "execution_count": 31,
   "id": "6b30ff61",
   "metadata": {},
   "outputs": [
    {
     "data": {
      "text/plain": [
       "5"
      ]
     },
     "execution_count": 31,
     "metadata": {},
     "output_type": "execute_result"
    }
   ],
   "source": [
    "int('101',2)"
   ]
  },
  {
   "cell_type": "code",
   "execution_count": 32,
   "id": "804536e6",
   "metadata": {},
   "outputs": [
    {
     "data": {
      "text/plain": [
       "True"
      ]
     },
     "execution_count": 32,
     "metadata": {},
     "output_type": "execute_result"
    }
   ],
   "source": [
    "bool(-1)==1"
   ]
  },
  {
   "cell_type": "code",
   "execution_count": 33,
   "id": "feac9030",
   "metadata": {},
   "outputs": [
    {
     "data": {
      "text/plain": [
       "True"
      ]
     },
     "execution_count": 33,
     "metadata": {},
     "output_type": "execute_result"
    }
   ],
   "source": [
    "bool(-1)"
   ]
  },
  {
   "cell_type": "code",
   "execution_count": 34,
   "id": "8f392927",
   "metadata": {},
   "outputs": [
    {
     "data": {
      "text/plain": [
       "8"
      ]
     },
     "execution_count": 34,
     "metadata": {},
     "output_type": "execute_result"
    }
   ],
   "source": [
    "int(8.7)"
   ]
  },
  {
   "cell_type": "code",
   "execution_count": 37,
   "id": "cbc2f9fa",
   "metadata": {},
   "outputs": [
    {
     "data": {
      "text/plain": [
       "[1, 2, 3, 4, 7]"
      ]
     },
     "execution_count": 37,
     "metadata": {},
     "output_type": "execute_result"
    }
   ],
   "source": [
    "a= [1,2,3,4]\n",
    "b=a\n",
    "a.append(7)\n",
    "b"
   ]
  },
  {
   "cell_type": "code",
   "execution_count": 38,
   "id": "6913bb64",
   "metadata": {},
   "outputs": [
    {
     "data": {
      "text/plain": [
       "[1, 2, 3, 4, 1, 2, 3, 4]"
      ]
     },
     "execution_count": 38,
     "metadata": {},
     "output_type": "execute_result"
    }
   ],
   "source": [
    "mylist = [1,2,3,4]\n",
    "mylist *2"
   ]
  },
  {
   "cell_type": "code",
   "execution_count": 39,
   "id": "8b54f62f",
   "metadata": {},
   "outputs": [
    {
     "name": "stdout",
     "output_type": "stream",
     "text": [
      "[2, 4, 6, 8]\n"
     ]
    }
   ],
   "source": [
    "a = []\n",
    "for item in mylist:\n",
    "    a.append(item*2)\n",
    "print(a)"
   ]
  },
  {
   "cell_type": "code",
   "execution_count": 40,
   "id": "23ce83d2",
   "metadata": {},
   "outputs": [
    {
     "data": {
      "text/plain": [
       "[2, 4, 6, 8]"
      ]
     },
     "execution_count": 40,
     "metadata": {},
     "output_type": "execute_result"
    }
   ],
   "source": [
    "[item*2 for item in mylist]"
   ]
  },
  {
   "cell_type": "code",
   "execution_count": 48,
   "id": "468181cf",
   "metadata": {},
   "outputs": [],
   "source": [
    "scribe_data = [{'name':'Sam','pos':[10,5],'direc':130,'marker':'+','color':'green','move':'up,down,right,forward,left'+(',up'*4)}]"
   ]
  },
  {
   "cell_type": "code",
   "execution_count": 49,
   "id": "98e71086",
   "metadata": {},
   "outputs": [
    {
     "data": {
      "text/plain": [
       "[{'name': 'Sam',\n",
       "  'pos': [10, 5],\n",
       "  'direc': 130,\n",
       "  'marker': '+',\n",
       "  'color': 'green',\n",
       "  'move': 'up,down,right,forward,left,up,up,up,up'}]"
      ]
     },
     "execution_count": 49,
     "metadata": {},
     "output_type": "execute_result"
    }
   ],
   "source": [
    "scribe_data"
   ]
  },
  {
   "cell_type": "code",
   "execution_count": 52,
   "id": "089c9940",
   "metadata": {},
   "outputs": [
    {
     "data": {
      "text/plain": [
       "['up', 'down', 'right', 'forward', 'left', 'up', 'up', 'up', 'up']"
      ]
     },
     "execution_count": 52,
     "metadata": {},
     "output_type": "execute_result"
    }
   ],
   "source": [
    "scribe_data[0]['move'].split(',')"
   ]
  },
  {
   "cell_type": "code",
   "execution_count": null,
   "id": "05cf8497",
   "metadata": {},
   "outputs": [],
   "source": []
  }
 ],
 "metadata": {
  "kernelspec": {
   "display_name": "Python 3",
   "language": "python",
   "name": "python3"
  },
  "language_info": {
   "codemirror_mode": {
    "name": "ipython",
    "version": 3
   },
   "file_extension": ".py",
   "mimetype": "text/x-python",
   "name": "python",
   "nbconvert_exporter": "python",
   "pygments_lexer": "ipython3",
   "version": "3.8.8"
  },
  "vscode": {
   "interpreter": {
    "hash": "3b153a99c3a4485f0e00ad4da8a083284092373fd5e464cfa1a038656a443ffa"
   }
  }
 },
 "nbformat": 4,
 "nbformat_minor": 5
}
